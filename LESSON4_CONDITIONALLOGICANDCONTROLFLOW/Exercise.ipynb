{
 "cells": [
  {
   "cell_type": "markdown",
   "id": "2d359fa9-aaca-401c-b644-c0f926801f46",
   "metadata": {},
   "source": [
    "# Review Question 1\n"
   ]
  },
  {
   "cell_type": "code",
   "execution_count": 2,
   "id": "8ad7c590-a122-4acd-b80b-1336b27b4ebb",
   "metadata": {},
   "outputs": [
    {
     "name": "stdout",
     "output_type": "stream",
     "text": [
      "False\n",
      "False\n",
      "True\n",
      "False\n"
     ]
    }
   ],
   "source": [
    "print((1<=1) and (1!=1))\n",
    "print(not (1!=2))\n",
    "print((\"good\"!=\"bad\")or False)\n",
    "print((\"good\"!=\"Good\")and not (1==1))"
   ]
  },
  {
   "cell_type": "code",
   "execution_count": 3,
   "id": "ffb37a94-b39f-4aa3-87d1-7b8f4ece7377",
   "metadata": {},
   "outputs": [
    {
     "name": "stdout",
     "output_type": "stream",
     "text": [
      "True\n",
      "True\n",
      "True\n"
     ]
    }
   ],
   "source": [
    "print(False == (not True))\n",
    "print((True and False) == (True and False))\n",
    "print(not (True and \"A\"==\"B\"))"
   ]
  },
  {
   "cell_type": "markdown",
   "id": "be613495-b629-4803-8467-53e5d348af43",
   "metadata": {},
   "source": [
    "# Review Question 2"
   ]
  },
  {
   "cell_type": "code",
   "execution_count": 7,
   "id": "78412d49-2ef4-4ada-86c1-c6d1c77a11ca",
   "metadata": {},
   "outputs": [
    {
     "name": "stdin",
     "output_type": "stream",
     "text": [
      "Please Enter a Word Euwen\n"
     ]
    },
    {
     "name": "stdout",
     "output_type": "stream",
     "text": [
      "Your Input Has 5 characters\n"
     ]
    }
   ],
   "source": [
    "answer = input(\"Please Enter a Word\")\n",
    "length = (len(answer))\n",
    "if length > 5:\n",
    "    print (\"Your Input Has More than 5 characters\")\n",
    "elif length< 5:\n",
    "    print (\"Your Input Has Less than 5 characters\")\n",
    "else:\n",
    "    print (\"Your Input Has 5 characters\")"
   ]
  },
  {
   "cell_type": "markdown",
   "id": "1a1150ff-3dd2-4955-b593-7dd84cc520f6",
   "metadata": {},
   "source": [
    "# Review Questions 3"
   ]
  },
  {
   "cell_type": "code",
   "execution_count": 8,
   "id": "a928a0ed-a7bc-41bf-b429-f468956392b9",
   "metadata": {},
   "outputs": [
    {
     "name": "stdin",
     "output_type": "stream",
     "text": [
      "Please Enter a Anything no\n",
      "Please Enter a Anything Q\n"
     ]
    },
    {
     "name": "stdout",
     "output_type": "stream",
     "text": [
      "BYE\n"
     ]
    }
   ],
   "source": [
    "while True:\n",
    "    Answer = input(\"Please Enter a Anything\")\n",
    "    if Answer.lower() == \"q\":\n",
    "        print(\"BYE\")\n",
    "        break"
   ]
  },
  {
   "cell_type": "code",
   "execution_count": 9,
   "id": "cdd6bbb0-3501-406a-ae11-ba7524c70876",
   "metadata": {},
   "outputs": [
    {
     "name": "stdout",
     "output_type": "stream",
     "text": [
      "1\n",
      "2\n",
      "4\n",
      "5\n",
      "7\n",
      "8\n",
      "10\n",
      "11\n",
      "13\n",
      "14\n",
      "16\n",
      "17\n",
      "19\n",
      "20\n",
      "22\n",
      "23\n",
      "25\n",
      "26\n",
      "28\n",
      "29\n",
      "31\n",
      "32\n",
      "34\n",
      "35\n",
      "37\n",
      "38\n",
      "40\n",
      "41\n",
      "43\n",
      "44\n",
      "46\n",
      "47\n",
      "49\n",
      "50\n"
     ]
    }
   ],
   "source": [
    "for i in range(1, 51):\n",
    "    if i % 3 == 0:\n",
    "        continue\n",
    "    print(i)"
   ]
  },
  {
   "cell_type": "markdown",
   "id": "3d60d135-9eb0-4a16-b27f-51179517841f",
   "metadata": {},
   "source": [
    "# Review Question 4"
   ]
  },
  {
   "cell_type": "code",
   "execution_count": 10,
   "id": "07105322-3635-4aba-a8e4-15b94ef45edc",
   "metadata": {},
   "outputs": [
    {
     "name": "stdin",
     "output_type": "stream",
     "text": [
      "Enter an integer:  e\n"
     ]
    },
    {
     "name": "stdout",
     "output_type": "stream",
     "text": [
      "Try again! That was not an integer.\n"
     ]
    },
    {
     "name": "stdin",
     "output_type": "stream",
     "text": [
      "Enter an integer:  1\n"
     ]
    },
    {
     "name": "stdout",
     "output_type": "stream",
     "text": [
      "You entered: 1\n"
     ]
    }
   ],
   "source": [
    "while True:\n",
    "    try:\n",
    "        Answer = int(input(\"Please Enter an integer: \"))\n",
    "        print(\"You entered:\", Answer)\n",
    "        break\n",
    "    except ValueError:\n",
    "        print(\"Try again! That was not an integer.\")"
   ]
  },
  {
   "cell_type": "code",
   "execution_count": 13,
   "id": "cf127c9f-2cf3-47c9-847e-c7f8265711ce",
   "metadata": {},
   "outputs": [
    {
     "name": "stdin",
     "output_type": "stream",
     "text": [
      "Please Enter a string:  Euwen\n",
      "Enter an index number:  3\n"
     ]
    },
    {
     "name": "stdout",
     "output_type": "stream",
     "text": [
      "Character at index 3 is: e\n"
     ]
    }
   ],
   "source": [
    "Answer = input(\"Please Enter a string: \")\n",
    "n = int(input(\"Enter an index number: \"))\n",
    "\n",
    "if 0 <= n < len(Answer):\n",
    "    print(\"Character at index\", n, \"is:\", Answer[n])\n",
    "else:\n",
    "    print(\"Invalid index, The string length is\", len(Answer))"
   ]
  },
  {
   "cell_type": "markdown",
   "id": "40362b61-6672-4bee-9c1e-07bc70f5043c",
   "metadata": {},
   "source": [
    "# Review Question 5"
   ]
  },
  {
   "cell_type": "code",
   "execution_count": 17,
   "id": "120c8dd7-67c8-4814-acd8-cda2a146f367",
   "metadata": {},
   "outputs": [
    {
     "name": "stdout",
     "output_type": "stream",
     "text": [
      "6\n"
     ]
    }
   ],
   "source": [
    "import random\n",
    "\n",
    "def roll():\n",
    "    return random.randint(1, 6)\n",
    "print(roll())"
   ]
  },
  {
   "cell_type": "code",
   "execution_count": 18,
   "id": "6bd48bbd-fcb7-49c4-aa34-8c21bcc8ee13",
   "metadata": {},
   "outputs": [
    {
     "name": "stdout",
     "output_type": "stream",
     "text": [
      "Average number rolled after 10,000 rolls: 3.4909\n"
     ]
    }
   ],
   "source": [
    "import random\n",
    "\n",
    "def roll():\n",
    "    return random.randint(1, 6)\n",
    "total = 0\n",
    "rolls = 10000\n",
    "for _ in range(rolls):\n",
    "    total += roll()\n",
    "average = total / rolls\n",
    "print(\"Average number rolled after 10,000 rolls:\", average)\n"
   ]
  },
  {
   "cell_type": "markdown",
   "id": "a379bc01-4a7b-4e18-a437-cff00ca2005d",
   "metadata": {},
   "source": [
    "# Challenge"
   ]
  },
  {
   "cell_type": "code",
   "execution_count": 16,
   "id": "33015428-c338-423d-8efe-f08e6764f5ae",
   "metadata": {},
   "outputs": [
    {
     "name": "stdin",
     "output_type": "stream",
     "text": [
      "How many times are we repeating the simulation? 1000\n"
     ]
    },
    {
     "name": "stdout",
     "output_type": "stream",
     "text": [
      "After 1000 simulations:\n",
      "Candidate A wins all 3 regions:(9.30%)\n",
      "Candidate A wins exactly 2 regions:(52.30%)\n",
      "Candidate A wins the election (<2 regions):(61.60%)\n"
     ]
    }
   ],
   "source": [
    "import random\n",
    "p_region1 = 0.87\n",
    "p_region2 = 0.65\n",
    "p_region3 = 0.17\n",
    "wins = 0\n",
    "wins_all = 0\n",
    "wins_two = 0\n",
    "trials = int(input(\"How many times are we repeating the simulation?\"))\n",
    "for i in range(trials):\n",
    "        r1 = random.random() < p_region1\n",
    "        r2 = random.random() < p_region2\n",
    "        r3 = random.random() < p_region3\n",
    "        total_wins = sum([r1, r2, r3])\n",
    "        if total_wins >= 2:\n",
    "            wins += 1\n",
    "        if total_wins == 3:\n",
    "            wins_all += 1\n",
    "        if total_wins == 2:\n",
    "            wins_two += 1\n",
    "print(f\"After {trials} simulations:\")\n",
    "print(f\"Candidate A wins all 3 regions:({wins_all / trials * 100:.2f}%)\")\n",
    "print(f\"Candidate A wins exactly 2 regions:({wins_two / trials * 100:.2f}%)\")\n",
    "print(f\"Candidate A wins the election (<2 regions):({wins / trials * 100:.2f}%)\")\n",
    "\n",
    "\n"
   ]
  },
  {
   "cell_type": "code",
   "execution_count": null,
   "id": "044ca878-9d6b-4360-98d9-15e9a5ea5c00",
   "metadata": {},
   "outputs": [],
   "source": []
  }
 ],
 "metadata": {
  "kernelspec": {
   "display_name": "Python [conda env:base] *",
   "language": "python",
   "name": "conda-base-py"
  },
  "language_info": {
   "codemirror_mode": {
    "name": "ipython",
    "version": 3
   },
   "file_extension": ".py",
   "mimetype": "text/x-python",
   "name": "python",
   "nbconvert_exporter": "python",
   "pygments_lexer": "ipython3",
   "version": "3.13.5"
  }
 },
 "nbformat": 4,
 "nbformat_minor": 5
}
