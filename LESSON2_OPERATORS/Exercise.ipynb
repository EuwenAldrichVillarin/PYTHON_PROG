{
 "cells": [
  {
   "cell_type": "markdown",
   "id": "2ddb8eee-3e0d-46b1-9dfd-8339d55d83a1",
   "metadata": {},
   "source": [
    "# REVIEW QUESTIONS 1"
   ]
  },
  {
   "cell_type": "code",
   "execution_count": 1,
   "id": "000f8aac-c020-4155-859f-6ba0132142ff",
   "metadata": {},
   "outputs": [
    {
     "name": "stdout",
     "output_type": "stream",
     "text": [
      "25000000\n",
      "25000000\n"
     ]
    }
   ],
   "source": [
    "num1=25000000\n",
    "num2=25_000_000\n",
    "print(num1)\n",
    "print(num2)"
   ]
  },
  {
   "cell_type": "code",
   "execution_count": 3,
   "id": "2aa34db4-7833-4b43-a35a-45e26b343862",
   "metadata": {},
   "outputs": [
    {
     "name": "stdout",
     "output_type": "stream",
     "text": [
      "1750000.0\n"
     ]
    }
   ],
   "source": [
    "num1 = 1.75*10**6\n",
    "print(num1)"
   ]
  },
  {
   "cell_type": "code",
   "execution_count": 2,
   "id": "f565f605-ce7e-42f9-971a-8c31bcfa56a5",
   "metadata": {},
   "outputs": [
    {
     "data": {
      "text/plain": [
       "inf"
      ]
     },
     "execution_count": 2,
     "metadata": {},
     "output_type": "execute_result"
    }
   ],
   "source": [
    "2e308"
   ]
  },
  {
   "cell_type": "markdown",
   "id": "b3f0e357-ab38-4a7f-b076-2df4fe4eaf5c",
   "metadata": {},
   "source": [
    "# REVIEW QUESTIONS 2\n"
   ]
  },
  {
   "cell_type": "code",
   "execution_count": 20,
   "id": "4f64f2f1-15af-4311-b960-608a59eceb93",
   "metadata": {},
   "outputs": [
    {
     "name": "stdin",
     "output_type": "stream",
     "text": [
      "Please Enter a Base Number:  1.2\n",
      "Please Enter an Exponent:  3\n"
     ]
    },
    {
     "name": "stdout",
     "output_type": "stream",
     "text": [
      "1.2 to the power of 3 = 1.7279999999999998\n"
     ]
    }
   ],
   "source": [
    "prompt = \"Please Enter a Base Number: \"\n",
    "answer = input(prompt)\n",
    "prompt1 = \"Please Enter an Exponent: \"\n",
    "answer1 = input(prompt1)\n",
    "product = float(answer)**float(answer1)\n",
    "print(answer+\" to the power of \"+answer1+\" = \"+str(product))"
   ]
  },
  {
   "cell_type": "markdown",
   "id": "ceae6a74-999a-469a-bfcf-43d7e565d1ad",
   "metadata": {},
   "source": [
    "# REVIEW QUESTIONS 3"
   ]
  },
  {
   "cell_type": "code",
   "execution_count": 42,
   "id": "60fa5b4b-408e-4710-92a2-8a3f037c9ac3",
   "metadata": {},
   "outputs": [
    {
     "name": "stdin",
     "output_type": "stream",
     "text": [
      "Please Enter a number:  5.432\n"
     ]
    },
    {
     "name": "stdout",
     "output_type": "stream",
     "text": [
      "5.432 rounded to 2 decimal places is 5.43\n"
     ]
    }
   ],
   "source": [
    "prompt = \"Please Enter a Number: \"\n",
    "answer = float(input(prompt))\n",
    "roundoff = round(answer,2)\n",
    "print(str(answer)+\" rounded to 2 decimal places is \"+str(roundoff))"
   ]
  },
  {
   "cell_type": "code",
   "execution_count": 46,
   "id": "b11c8ce0-462e-4d2a-a955-13613f1780f5",
   "metadata": {},
   "outputs": [
    {
     "name": "stdin",
     "output_type": "stream",
     "text": [
      "Please Enter a Number:  -10\n"
     ]
    },
    {
     "name": "stdout",
     "output_type": "stream",
     "text": [
      "The absolute value of -10.0 is 10.0\n"
     ]
    }
   ],
   "source": [
    "prompt = \"Please Enter a Number: \"\n",
    "answer = float(input(prompt))\n",
    "absolute = abs(answer)\n",
    "print(\"The absolute value of \"+str(answer)+\" is \"+str(absolute))"
   ]
  },
  {
   "cell_type": "markdown",
   "id": "2d42e847-a2e9-48cb-8111-f1a6f5a4bd5a",
   "metadata": {},
   "source": [
    "# REVIEW QUESTIONS 4"
   ]
  },
  {
   "cell_type": "code",
   "execution_count": 53,
   "id": "5ea48907-2234-402b-a5db-a3da7df4956a",
   "metadata": {},
   "outputs": [
    {
     "name": "stdin",
     "output_type": "stream",
     "text": [
      "Please Enter a Number:  10\n",
      "Please Enter Another Number:  5\n"
     ]
    },
    {
     "name": "stdout",
     "output_type": "stream",
     "text": [
      "The Difference Between 10.0 and 5.0 is an Integer? True\n"
     ]
    }
   ],
   "source": [
    "prompt = \"Please Enter a Number: \"\n",
    "answer = float(input(prompt))\n",
    "prompt1 = \"Please Enter Another Number: \"\n",
    "answer1 = float(input(prompt1))\n",
    "difference = answer - answer1\n",
    "print(\"The Difference Between \"+str(answer)+\" and \"+str(answer1)+ \" is an Integer? \"+str(difference.is_integer()))\n"
   ]
  },
  {
   "cell_type": "markdown",
   "id": "7a5ae862-270c-4fe7-9f5a-ec602d1a6453",
   "metadata": {},
   "source": [
    "# REVIEW QUESTIONS 5"
   ]
  },
  {
   "cell_type": "code",
   "execution_count": 54,
   "id": "09f56428-0d4d-47e5-b9bb-059271102e37",
   "metadata": {},
   "outputs": [
    {
     "name": "stdout",
     "output_type": "stream",
     "text": [
      "1.147\n"
     ]
    }
   ],
   "source": [
    "x = round(3**.125,3)\n",
    "print(x)"
   ]
  },
  {
   "cell_type": "code",
   "execution_count": 55,
   "id": "46a00990-cb64-4d4d-8246-ffd9b81703c5",
   "metadata": {},
   "outputs": [
    {
     "name": "stdout",
     "output_type": "stream",
     "text": [
      "$150,000.00\n"
     ]
    }
   ],
   "source": [
    "print(f\"${150000:,.2f}\")"
   ]
  },
  {
   "cell_type": "code",
   "execution_count": 56,
   "id": "c92bface-699c-44b0-95bd-060e810fb776",
   "metadata": {},
   "outputs": [
    {
     "name": "stdout",
     "output_type": "stream",
     "text": [
      "20%\n"
     ]
    }
   ],
   "source": [
    "quotient = 2/10\n",
    "print(f\"{quotient:.0%}\")"
   ]
  },
  {
   "cell_type": "code",
   "execution_count": null,
   "id": "0f1e7939-8ffc-4e30-8fe4-eaac3fe12796",
   "metadata": {},
   "outputs": [],
   "source": []
  }
 ],
 "metadata": {
  "kernelspec": {
   "display_name": "Python [conda env:base] *",
   "language": "python",
   "name": "conda-base-py"
  },
  "language_info": {
   "codemirror_mode": {
    "name": "ipython",
    "version": 3
   },
   "file_extension": ".py",
   "mimetype": "text/x-python",
   "name": "python",
   "nbconvert_exporter": "python",
   "pygments_lexer": "ipython3",
   "version": "3.13.5"
  }
 },
 "nbformat": 4,
 "nbformat_minor": 5
}
