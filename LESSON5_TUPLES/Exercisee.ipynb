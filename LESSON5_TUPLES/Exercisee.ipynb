{
 "cells": [
  {
   "cell_type": "markdown",
   "id": "85de1f24-86a0-45c0-aa7b-ad32048ee903",
   "metadata": {},
   "source": [
    "# REVIEW QUESTIONS 1"
   ]
  },
  {
   "cell_type": "code",
   "execution_count": 31,
   "id": "c3ff0e71-5155-4d46-b9de-1c4c973d74d8",
   "metadata": {},
   "outputs": [],
   "source": [
    "Cardinal_Number = [\"FIRST\",\"SECOND\",\"THIRD\"]"
   ]
  },
  {
   "cell_type": "code",
   "execution_count": 7,
   "id": "7b3815e1-f0ae-48bd-8015-3529d085b555",
   "metadata": {},
   "outputs": [
    {
     "name": "stdout",
     "output_type": "stream",
     "text": [
      "SECOND\n"
     ]
    }
   ],
   "source": [
    "print(Cardinal_Number[1])"
   ]
  },
  {
   "cell_type": "code",
   "execution_count": 16,
   "id": "2c723cbd-4ea9-4bf7-8d08-7e8812f4853a",
   "metadata": {},
   "outputs": [
    {
     "name": "stdout",
     "output_type": "stream",
     "text": [
      "FIRST\n",
      "SECOND\n",
      "THIRD\n"
     ]
    }
   ],
   "source": [
    "Position1,Position2,Position3= Cardinal_Number\n",
    "print(Position1)\n",
    "print(Position2)\n",
    "print(Position3)"
   ]
  },
  {
   "cell_type": "code",
   "execution_count": 26,
   "id": "9de6694b-8e5d-4f89-b58d-df77a691eac2",
   "metadata": {},
   "outputs": [
    {
     "name": "stdout",
     "output_type": "stream",
     "text": [
      "('E', 'U', 'W', 'E', 'N')\n"
     ]
    }
   ],
   "source": [
    "\n",
    "My_Name =tuple(\"EUWEN\")\n",
    "print(My_Name)"
   ]
  },
  {
   "cell_type": "code",
   "execution_count": 27,
   "id": "30e4d966-4b92-4a54-b33a-57c7e53875f6",
   "metadata": {},
   "outputs": [
    {
     "data": {
      "text/plain": [
       "False"
      ]
     },
     "execution_count": 27,
     "metadata": {},
     "output_type": "execute_result"
    }
   ],
   "source": [
    "\"x\" in My_Name"
   ]
  },
  {
   "cell_type": "code",
   "execution_count": 34,
   "id": "d6298aef-9376-40cb-a5e9-5362c9b7f375",
   "metadata": {},
   "outputs": [
    {
     "name": "stdout",
     "output_type": "stream",
     "text": [
      "('U', 'W', 'E', 'N')\n"
     ]
    }
   ],
   "source": [
    "Tupler = (My_Name[1:5])\n",
    "print(Tupler)"
   ]
  },
  {
   "cell_type": "markdown",
   "id": "4a0084cd-37c9-4e67-a305-64ae89d2a97b",
   "metadata": {},
   "source": [
    "# REVIEW QUESTIONS 2\n"
   ]
  },
  {
   "cell_type": "code",
   "execution_count": 35,
   "id": "ac54c4be-1a9f-47ba-869d-72669f9b4be3",
   "metadata": {},
   "outputs": [],
   "source": [
    "Food = [\"RICE\",\"BEANS\"]"
   ]
  },
  {
   "cell_type": "code",
   "execution_count": 37,
   "id": "c2ffba09-77f3-40ad-a984-3f1f5bb89a69",
   "metadata": {},
   "outputs": [],
   "source": [
    "Food.append(\"BROCCOLI\")"
   ]
  },
  {
   "cell_type": "code",
   "execution_count": 44,
   "id": "cd800ca5-eef9-4457-bd4f-cd6cc55d1a77",
   "metadata": {},
   "outputs": [],
   "source": [
    "Food.extend([\"BREAD\",\"PIZZA\"])"
   ]
  },
  {
   "cell_type": "code",
   "execution_count": 39,
   "id": "26dbafc3-14be-42b5-af35-760a8ff9d2ff",
   "metadata": {},
   "outputs": [
    {
     "name": "stdout",
     "output_type": "stream",
     "text": [
      "['Pork', 'Beans']\n"
     ]
    }
   ],
   "source": [
    "print(Food[0:2])"
   ]
  },
  {
   "cell_type": "code",
   "execution_count": 45,
   "id": "b88e96be-c283-4831-94ff-08f7db99793c",
   "metadata": {},
   "outputs": [
    {
     "name": "stdout",
     "output_type": "stream",
     "text": [
      "PIZZA\n"
     ]
    }
   ],
   "source": [
    "print(Food[-1])"
   ]
  },
  {
   "cell_type": "code",
   "execution_count": 3,
   "id": "a9a3a8ee-cbd8-4c62-ab2e-12f7c9b9edcf",
   "metadata": {},
   "outputs": [
    {
     "name": "stdout",
     "output_type": "stream",
     "text": [
      "['EGGS', 'FRUIT', 'ORANGE JUICE']\n"
     ]
    }
   ],
   "source": [
    "Food = \"EGGS,FRUIT,ORANGE JUICE\"\n",
    "Breakfast = Food.split(\",\")\n",
    "print(Breakfast)"
   ]
  },
  {
   "cell_type": "code",
   "execution_count": 7,
   "id": "1a80b838-8d0e-47be-aede-d93dbad0ed78",
   "metadata": {},
   "outputs": [
    {
     "data": {
      "text/plain": [
       "3"
      ]
     },
     "execution_count": 7,
     "metadata": {},
     "output_type": "execute_result"
    }
   ],
   "source": [
    "len(Breakfast)"
   ]
  },
  {
   "cell_type": "code",
   "execution_count": 13,
   "id": "c487d4f6-e75c-4bce-bbe0-6a5d10eba0a6",
   "metadata": {},
   "outputs": [
    {
     "name": "stdout",
     "output_type": "stream",
     "text": [
      "[4, 5, 12]\n"
     ]
    }
   ],
   "source": [
    "lengths = [len(Food) for Food in Breakfast]\n",
    "print(lengths)"
   ]
  },
  {
   "cell_type": "markdown",
   "id": "dd657919-4a4f-4d40-857d-891317d362f0",
   "metadata": {},
   "source": [
    "# Review Questions 3"
   ]
  },
  {
   "cell_type": "code",
   "execution_count": 24,
   "id": "feee4d2f-d6ed-4b79-bdc8-4d0b7038e62c",
   "metadata": {},
   "outputs": [],
   "source": [
    "numbers = ((1, 2), (3, 4))"
   ]
  },
  {
   "cell_type": "code",
   "execution_count": 25,
   "id": "3772c03f-f34f-4b97-a4e4-9c12e6d3fb37",
   "metadata": {},
   "outputs": [
    {
     "name": "stdout",
     "output_type": "stream",
     "text": [
      "3\n",
      "7\n"
     ]
    }
   ],
   "source": [
    "for pair in numbers:\n",
    "    print(sum(pair))\n"
   ]
  },
  {
   "cell_type": "code",
   "execution_count": 29,
   "id": "f5179589-8815-43bd-84a0-e36562d34d53",
   "metadata": {},
   "outputs": [
    {
     "name": "stdout",
     "output_type": "stream",
     "text": [
      "[5, 2, 1, 8, 3]\n"
     ]
    }
   ],
   "source": [
    "numbers = [5, 2, 1, 8, 3]\n",
    "copy = numbers[:]\n",
    "print(copy)"
   ]
  },
  {
   "cell_type": "code",
   "execution_count": 32,
   "id": "aa80bd87-4bfb-4a8b-8f09-3081bf82a740",
   "metadata": {},
   "outputs": [
    {
     "name": "stdout",
     "output_type": "stream",
     "text": [
      "[1, 2, 3, 5, 8]\n"
     ]
    }
   ],
   "source": [
    "copy.sort()\n",
    "print(copy)"
   ]
  },
  {
   "cell_type": "markdown",
   "id": "6e8ad80e-2d33-4bb0-9d9b-379350662d4e",
   "metadata": {},
   "source": [
    "# Challenge:List of Lists"
   ]
  },
  {
   "cell_type": "code",
   "execution_count": 41,
   "id": "37b9f6d8-788c-490e-b4fa-4fe4b3168252",
   "metadata": {},
   "outputs": [
    {
     "name": "stdout",
     "output_type": "stream",
     "text": [
      "[['California Institute of Technology', 2175, 37704], ['Harvard', 19627, 39849], ['Massachusetts Institute of Technology', 10566, 40732], ['Princeton', 7802, 37000], ['Rice', 5879, 35551], ['Stanford', 19535, 40569], ['Yale', 11701, 40500]]\n"
     ]
    }
   ],
   "source": [
    "universities = [\n",
    "    ['California Institute of Technology', 2175, 37704],\n",
    "    ['Harvard', 19627, 39849],\n",
    "    ['Massachusetts Institute of Technology', 10566, 40732],\n",
    "    ['Princeton', 7802, 37000],\n",
    "    ['Rice', 5879, 35551],\n",
    "    ['Stanford', 19535, 40569],\n",
    "    ['Yale', 11701, 40500]\n",
    "]\n",
    "print(universities)"
   ]
  },
  {
   "cell_type": "markdown",
   "id": "245169df-cfa4-4798-bbd9-26fd4a7fb387",
   "metadata": {},
   "source": [
    "\n",
    "# Challenge: Wax Poetic"
   ]
  },
  {
   "cell_type": "code",
   "execution_count": 43,
   "id": "1dbc38da-3da7-4305-81d9-cda008d52a4a",
   "metadata": {},
   "outputs": [
    {
     "name": "stdout",
     "output_type": "stream",
     "text": [
      "Nouns: ['fossil', 'horse', 'aardvark', 'judge', 'chef', 'mango', 'extrovert', 'gorilla']\n",
      "Verbs: ['kicks', 'jingles', 'bounces', 'slurps', 'meows', 'explodes', 'curdles']\n",
      "Adjectives: ['furry', 'balding', 'incredulous', 'fragrant', 'exuberant', 'glistening']\n",
      "Prepositions: ['against', 'after', 'into', 'beneath', 'upon', 'for', 'in', 'like', 'over', 'within']\n",
      "Adverbs: ['curiously', 'furiously', 'sensuously', 'extravagantly', 'tantalizingly']\n"
     ]
    }
   ],
   "source": [
    "nouns = [\"fossil\", \"horse\", \"aardvark\", \"judge\", \"chef\", \n",
    "         \"mango\", \"extrovert\", \"gorilla\"]\n",
    "\n",
    "verbs = [\"kicks\", \"jingles\", \"bounces\", \"slurps\", \"meows\", \n",
    "         \"explodes\", \"curdles\"]\n",
    "\n",
    "adjectives = [\"furry\", \"balding\", \"incredulous\", \"fragrant\", \n",
    "              \"exuberant\", \"glistening\"]\n",
    "\n",
    "prepositions = [\"against\", \"after\", \"into\", \"beneath\", \"upon\", \n",
    "                \"for\", \"in\", \"like\", \"over\", \"within\"]\n",
    "\n",
    "adverbs = [\"curiously\", \"furiously\", \"sensuously\", \n",
    "           \"extravagantly\", \"tantalizingly\"]\n",
    "print(\"Nouns:\", nouns)\n",
    "print(\"Verbs:\", verbs)\n",
    "print(\"Adjectives:\", adjectives)\n",
    "print(\"Prepositions:\", prepositions)\n",
    "print(\"Adverbs:\", adverbs)"
   ]
  },
  {
   "cell_type": "markdown",
   "id": "62b47859-44ba-4408-8724-3dc319c8d013",
   "metadata": {},
   "source": [
    "# Review Questions 4"
   ]
  },
  {
   "cell_type": "code",
   "execution_count": 45,
   "id": "d9e2d7bc-ab5a-4928-848b-ad9c28a21c97",
   "metadata": {},
   "outputs": [],
   "source": [
    "captains = {}"
   ]
  },
  {
   "cell_type": "code",
   "execution_count": 49,
   "id": "7fbea897-313c-422e-b1d4-d0596b1f1c7b",
   "metadata": {},
   "outputs": [
    {
     "name": "stdout",
     "output_type": "stream",
     "text": [
      "{'Enterprise': 'Picard', 'Voyager': 'Janeway', 'Defiant': 'Sisko'}\n"
     ]
    }
   ],
   "source": [
    "captains[\"Enterprise\"] = \"Picard\"\n",
    "captains[\"Voyager\"]=\"Janeway\"\n",
    "captains[\"Defiant\"]=\"Sisko\"\n",
    "print(captains)"
   ]
  },
  {
   "cell_type": "code",
   "execution_count": 50,
   "id": "a83c7612-7d53-4ab5-b28d-eaf6f85ff26a",
   "metadata": {},
   "outputs": [],
   "source": [
    "if \"Enterprise\" not in captains:\n",
    "    captains[\"Enterprise\"] = \"Unknown\"\n",
    "if \"Discovery\" not in captains:\n",
    "    captains[\"Discovery\"] = \"Unknown\""
   ]
  },
  {
   "cell_type": "code",
   "execution_count": 55,
   "id": "39cb7609-acd6-40fc-a2bf-b636204be0db",
   "metadata": {},
   "outputs": [
    {
     "name": "stdout",
     "output_type": "stream",
     "text": [
      "The Enterprise is captained by Picard\n",
      "The Voyager is captained by Janeway\n",
      "The Defiant is captained by Sisko\n",
      "The Discovery is captained by Unknown\n"
     ]
    }
   ],
   "source": [
    "for ship, captain in captains.items():\n",
    "    print(\"The \"+ship+\" is captained by \" +captain)"
   ]
  },
  {
   "cell_type": "code",
   "execution_count": 56,
   "id": "60839ef9-03f4-4bc3-a065-2e08352e9453",
   "metadata": {},
   "outputs": [],
   "source": [
    "del captains[\"Discovery\"]"
   ]
  },
  {
   "cell_type": "code",
   "execution_count": 58,
   "id": "ab62a888-dff3-4899-bebd-0a4b227da25f",
   "metadata": {},
   "outputs": [
    {
     "name": "stdout",
     "output_type": "stream",
     "text": [
      "{'Enterprise': 'Picard', 'Voyager': 'Janeway', 'Defiant': 'Sisko'}\n"
     ]
    }
   ],
   "source": [
    "captains = dict(\n",
    "    Enterprise=\"Picard\",\n",
    "    Voyager=\"Janeway\",\n",
    "    Defiant=\"Sisko\"\n",
    ")\n",
    "print(captains)"
   ]
  },
  {
   "cell_type": "markdown",
   "id": "92c6fba5-c58b-4915-85af-11b3b2e9956b",
   "metadata": {},
   "source": [
    "# Challenge: Capital City Loop"
   ]
  },
  {
   "cell_type": "code",
   "execution_count": 59,
   "id": "241fa878-5ac3-4005-be51-e3869fc091f1",
   "metadata": {},
   "outputs": [
    {
     "name": "stdout",
     "output_type": "stream",
     "text": [
      "The capital of Alabama is Montgomery.\n",
      "The capital of Alaska is Juneau.\n",
      "The capital of Arizona is Phoenix.\n",
      "The capital of Arkansas is Little Rock.\n",
      "The capital of California is Sacramento.\n",
      "The capital of Colorado is Denver.\n",
      "The capital of Connecticut is Hartford.\n",
      "The capital of Delaware is Dover.\n",
      "The capital of Florida is Tallahassee.\n",
      "The capital of Georgia is Atlanta.\n"
     ]
    }
   ],
   "source": [
    "capitals_dict = {\n",
    "    'Alabama': 'Montgomery',\n",
    "    'Alaska': 'Juneau',\n",
    "    'Arizona': 'Phoenix',\n",
    "    'Arkansas': 'Little Rock',\n",
    "    'California': 'Sacramento',\n",
    "    'Colorado': 'Denver',\n",
    "    'Connecticut': 'Hartford',\n",
    "    'Delaware': 'Dover',\n",
    "    'Florida': 'Tallahassee',\n",
    "    'Georgia': 'Atlanta',\n",
    "}\n",
    "\n",
    "for state, capital in capitals_dict.items():\n",
    "    print(f\"The capital of {state} is {capital}.\")\n"
   ]
  },
  {
   "cell_type": "code",
   "execution_count": null,
   "id": "2151167c-2434-4c31-8128-8a06c8a2e822",
   "metadata": {},
   "outputs": [],
   "source": []
  }
 ],
 "metadata": {
  "kernelspec": {
   "display_name": "Python [conda env:base] *",
   "language": "python",
   "name": "conda-base-py"
  },
  "language_info": {
   "codemirror_mode": {
    "name": "ipython",
    "version": 3
   },
   "file_extension": ".py",
   "mimetype": "text/x-python",
   "name": "python",
   "nbconvert_exporter": "python",
   "pygments_lexer": "ipython3",
   "version": "3.13.5"
  }
 },
 "nbformat": 4,
 "nbformat_minor": 5
}
