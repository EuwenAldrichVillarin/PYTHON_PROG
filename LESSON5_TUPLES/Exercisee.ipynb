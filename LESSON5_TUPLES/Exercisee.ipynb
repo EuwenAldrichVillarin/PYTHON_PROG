{
 "cells": [
  {
   "cell_type": "markdown",
   "id": "85de1f24-86a0-45c0-aa7b-ad32048ee903",
   "metadata": {},
   "source": [
    "# REVIEW QUESTIONS 1"
   ]
  },
  {
   "cell_type": "code",
   "execution_count": 31,
   "id": "c3ff0e71-5155-4d46-b9de-1c4c973d74d8",
   "metadata": {},
   "outputs": [],
   "source": [
    "Cardinal_Number = [\"FIRST\",\"SECOND\",\"THIRD\"]"
   ]
  },
  {
   "cell_type": "code",
   "execution_count": 7,
   "id": "7b3815e1-f0ae-48bd-8015-3529d085b555",
   "metadata": {},
   "outputs": [
    {
     "name": "stdout",
     "output_type": "stream",
     "text": [
      "SECOND\n"
     ]
    }
   ],
   "source": [
    "print(Cardinal_Number[1])"
   ]
  },
  {
   "cell_type": "code",
   "execution_count": 16,
   "id": "2c723cbd-4ea9-4bf7-8d08-7e8812f4853a",
   "metadata": {},
   "outputs": [
    {
     "name": "stdout",
     "output_type": "stream",
     "text": [
      "FIRST\n",
      "SECOND\n",
      "THIRD\n"
     ]
    }
   ],
   "source": [
    "Position1,Position2,Position3= Cardinal_Number\n",
    "print(Position1)\n",
    "print(Position2)\n",
    "print(Position3)"
   ]
  },
  {
   "cell_type": "code",
   "execution_count": 26,
   "id": "9de6694b-8e5d-4f89-b58d-df77a691eac2",
   "metadata": {},
   "outputs": [
    {
     "name": "stdout",
     "output_type": "stream",
     "text": [
      "('E', 'U', 'W', 'E', 'N')\n"
     ]
    }
   ],
   "source": [
    "\n",
    "My_Name =tuple(\"EUWEN\")\n",
    "print(My_Name)"
   ]
  },
  {
   "cell_type": "code",
   "execution_count": 27,
   "id": "30e4d966-4b92-4a54-b33a-57c7e53875f6",
   "metadata": {},
   "outputs": [
    {
     "data": {
      "text/plain": [
       "False"
      ]
     },
     "execution_count": 27,
     "metadata": {},
     "output_type": "execute_result"
    }
   ],
   "source": [
    "\"x\" in My_Name"
   ]
  },
  {
   "cell_type": "code",
   "execution_count": 34,
   "id": "d6298aef-9376-40cb-a5e9-5362c9b7f375",
   "metadata": {},
   "outputs": [
    {
     "name": "stdout",
     "output_type": "stream",
     "text": [
      "('U', 'W', 'E', 'N')\n"
     ]
    }
   ],
   "source": [
    "Tupler = (My_Name[1:5])\n",
    "print(Tupler)"
   ]
  },
  {
   "cell_type": "markdown",
   "id": "4a0084cd-37c9-4e67-a305-64ae89d2a97b",
   "metadata": {},
   "source": [
    "# REVIEW QUESTIONS 2\n"
   ]
  },
  {
   "cell_type": "code",
   "execution_count": 35,
   "id": "ac54c4be-1a9f-47ba-869d-72669f9b4be3",
   "metadata": {},
   "outputs": [],
   "source": [
    "Food = [\"RICE\",\"BEANS\"]"
   ]
  },
  {
   "cell_type": "code",
   "execution_count": 37,
   "id": "c2ffba09-77f3-40ad-a984-3f1f5bb89a69",
   "metadata": {},
   "outputs": [],
   "source": [
    "Food.append(\"BROCCOLI\")"
   ]
  },
  {
   "cell_type": "code",
   "execution_count": 44,
   "id": "cd800ca5-eef9-4457-bd4f-cd6cc55d1a77",
   "metadata": {},
   "outputs": [],
   "source": [
    "Food.extend([\"BREAD\",\"PIZZA\"])"
   ]
  },
  {
   "cell_type": "code",
   "execution_count": 39,
   "id": "26dbafc3-14be-42b5-af35-760a8ff9d2ff",
   "metadata": {},
   "outputs": [
    {
     "name": "stdout",
     "output_type": "stream",
     "text": [
      "['Pork', 'Beans']\n"
     ]
    }
   ],
   "source": [
    "print(Food[0:2])"
   ]
  },
  {
   "cell_type": "code",
   "execution_count": 45,
   "id": "b88e96be-c283-4831-94ff-08f7db99793c",
   "metadata": {},
   "outputs": [
    {
     "name": "stdout",
     "output_type": "stream",
     "text": [
      "PIZZA\n"
     ]
    }
   ],
   "source": [
    "print(Food[-1])"
   ]
  },
  {
   "cell_type": "code",
   "execution_count": 46,
   "id": "a9a3a8ee-cbd8-4c62-ab2e-12f7c9b9edcf",
   "metadata": {},
   "outputs": [],
   "source": [
    "Breakfast = [\"EGGS\",\"FRUIT\",\"ORANGE JUICE\",\"\"]"
   ]
  },
  {
   "cell_type": "code",
   "execution_count": null,
   "id": "1a80b838-8d0e-47be-aede-d93dbad0ed78",
   "metadata": {},
   "outputs": [],
   "source": []
  },
  {
   "cell_type": "code",
   "execution_count": null,
   "id": "c487d4f6-e75c-4bce-bbe0-6a5d10eba0a6",
   "metadata": {},
   "outputs": [],
   "source": []
  }
 ],
 "metadata": {
  "kernelspec": {
   "display_name": "Python 3 (ipykernel)",
   "language": "python",
   "name": "python3"
  },
  "language_info": {
   "codemirror_mode": {
    "name": "ipython",
    "version": 3
   },
   "file_extension": ".py",
   "mimetype": "text/x-python",
   "name": "python",
   "nbconvert_exporter": "python",
   "pygments_lexer": "ipython3",
   "version": "3.13.5"
  }
 },
 "nbformat": 4,
 "nbformat_minor": 5
}
