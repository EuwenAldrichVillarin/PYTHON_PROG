{
 "cells": [
  {
   "cell_type": "markdown",
   "id": "59059f1a-4784-4e48-89e8-225f6a297291",
   "metadata": {},
   "source": [
    "# 1st Long Exam September 10,2025"
   ]
  },
  {
   "cell_type": "markdown",
   "id": "66ad589a-a499-459f-a588-32d5b676f124",
   "metadata": {},
   "source": [
    "# Euwen Aldrich D. Villarin ID:23772189"
   ]
  },
  {
   "cell_type": "code",
   "execution_count": 1,
   "id": "e509ac6e-5b1c-4a99-b880-c08d95daa522",
   "metadata": {},
   "outputs": [
    {
     "name": "stdin",
     "output_type": "stream",
     "text": [
      "Please enter your name Euwen\n"
     ]
    },
    {
     "name": "stdout",
     "output_type": "stream",
     "text": [
      "Hello,Euwen\n"
     ]
    }
   ],
   "source": [
    "name = input(\"Please enter your name\")\n",
    "print(\"Hello,\"+name)"
   ]
  },
  {
   "cell_type": "code",
   "execution_count": 11,
   "id": "a9a6a11d-b57f-4b67-a5d6-0a7b81ff41b5",
   "metadata": {},
   "outputs": [
    {
     "name": "stdin",
     "output_type": "stream",
     "text": [
      "Please enter a positive integer 2\n"
     ]
    },
    {
     "ename": "TypeError",
     "evalue": "'int' object is not callable",
     "output_type": "error",
     "traceback": [
      "\u001b[1;31m---------------------------------------------------------------------------\u001b[0m",
      "\u001b[1;31mTypeError\u001b[0m                                 Traceback (most recent call last)",
      "Cell \u001b[1;32mIn[11], line 2\u001b[0m\n\u001b[0;32m      1\u001b[0m num \u001b[38;5;241m=\u001b[39m \u001b[38;5;28mint\u001b[39m(\u001b[38;5;28minput\u001b[39m(\u001b[38;5;124m\"\u001b[39m\u001b[38;5;124mPlease enter a positive integer\u001b[39m\u001b[38;5;124m\"\u001b[39m))\n\u001b[1;32m----> 2\u001b[0m \u001b[38;5;28msum\u001b[39m \u001b[38;5;241m=\u001b[39m (num(num\u001b[38;5;241m+\u001b[39m\u001b[38;5;241m1\u001b[39m))\u001b[38;5;241m/\u001b[39m\u001b[38;5;241m2\u001b[39m\n\u001b[0;32m      3\u001b[0m \u001b[38;5;28mprint\u001b[39m(\u001b[38;5;124m\"\u001b[39m\u001b[38;5;124mThe sum of n numbers is\u001b[39m\u001b[38;5;124m\"\u001b[39m\u001b[38;5;241m+\u001b[39m\u001b[38;5;28msum\u001b[39m)\n",
      "\u001b[1;31mTypeError\u001b[0m: 'int' object is not callable"
     ]
    }
   ],
   "source": [
    "num = input(int(\"Please enter a positive integer\"))\n",
    "sum = (num(num+1))/2\n",
    "print(\"The sum of n numbers is\"+sum)"
   ]
  },
  {
   "cell_type": "code",
   "execution_count": 13,
   "id": "5e2c0a18-5630-43a0-b079-a15d9a06c659",
   "metadata": {},
   "outputs": [
    {
     "ename": "SyntaxError",
     "evalue": "expected ':' (297498554.py, line 5)",
     "output_type": "error",
     "traceback": [
      "\u001b[1;36m  Cell \u001b[1;32mIn[13], line 5\u001b[1;36m\u001b[0m\n\u001b[1;33m    elif answer == \"y\"\u001b[0m\n\u001b[1;37m                      ^\u001b[0m\n\u001b[1;31mSyntaxError\u001b[0m\u001b[1;31m:\u001b[0m expected ':'\n"
     ]
    }
   ],
   "source": [
    "answer1=input(\"Please enter a letter\")\n",
    "answer=lower(answer)\n",
    "if answer==\"a\"or\"e\"or\"i\"or\"o\"or\"u\":\n",
    "    print(\"Your Letter is a vowel\")\n",
    "elif answer == \"y\":\n",
    "    print(\"This letter is sometimes a vowel and consonant\")\n",
    "else\n",
    "    print(\"Your letter is a consonant\")"
   ]
  },
  {
   "cell_type": "code",
   "execution_count": 12,
   "id": "4139ff1a-d74b-4846-b0c1-fc91f12e5441",
   "metadata": {},
   "outputs": [
    {
     "ename": "ValueError",
     "evalue": "could not convert string to float: 'Please enter a side of a right Triangle'",
     "output_type": "error",
     "traceback": [
      "\u001b[1;31m---------------------------------------------------------------------------\u001b[0m",
      "\u001b[1;31mValueError\u001b[0m                                Traceback (most recent call last)",
      "Cell \u001b[1;32mIn[12], line 5\u001b[0m\n\u001b[0;32m      3\u001b[0m     hypotenuse\u001b[38;5;241m=\u001b[39m\u001b[38;5;28mpow\u001b[39m(h,\u001b[38;5;241m0.5\u001b[39m)\n\u001b[0;32m      4\u001b[0m     \u001b[38;5;28;01mreturn\u001b[39;00m hypotenuse\n\u001b[1;32m----> 5\u001b[0m a \u001b[38;5;241m=\u001b[39m \u001b[38;5;28minput\u001b[39m(\u001b[38;5;28mfloat\u001b[39m(\u001b[38;5;124m\"\u001b[39m\u001b[38;5;124mPlease enter a side of a right Triangle\u001b[39m\u001b[38;5;124m\"\u001b[39m))\n\u001b[0;32m      6\u001b[0m b \u001b[38;5;241m=\u001b[39m \u001b[38;5;28minput\u001b[39m(\u001b[38;5;28mfloat\u001b[39m(\u001b[38;5;124m\"\u001b[39m\u001b[38;5;124mPlease enter another side of a right Triangle\u001b[39m\u001b[38;5;124m\"\u001b[39m))\n\u001b[0;32m      7\u001b[0m answer \u001b[38;5;241m=\u001b[39m calcHypotenuse(a,b)\n",
      "\u001b[1;31mValueError\u001b[0m: could not convert string to float: 'Please enter a side of a right Triangle'"
     ]
    }
   ],
   "source": [
    "def calcHypotenuse(a,b):\n",
    "    h=(a*a)+(b*b)\n",
    "    hypotenuse=pow(h,0.5)\n",
    "    return hypotenuse\n",
    "a = input(float(\"Please enter a side of a right Triangle\"))\n",
    "b = input(float(\"Please enter another side of a right Triangle\"))\n",
    "answer = calcHypotenuse(a,b)\n",
    "print(\"The hypotenuse of your right triangle is\"+answer)"
   ]
  },
  {
   "cell_type": "code",
   "execution_count": null,
   "id": "0e625214-54a4-4c1d-89ca-3a0f2a86aae2",
   "metadata": {},
   "outputs": [],
   "source": []
  }
 ],
 "metadata": {
  "kernelspec": {
   "display_name": "Python 3 (ipykernel)",
   "language": "python",
   "name": "python3"
  },
  "language_info": {
   "codemirror_mode": {
    "name": "ipython",
    "version": 3
   },
   "file_extension": ".py",
   "mimetype": "text/x-python",
   "name": "python",
   "nbconvert_exporter": "python",
   "pygments_lexer": "ipython3",
   "version": "3.13.5"
  }
 },
 "nbformat": 4,
 "nbformat_minor": 5
}
