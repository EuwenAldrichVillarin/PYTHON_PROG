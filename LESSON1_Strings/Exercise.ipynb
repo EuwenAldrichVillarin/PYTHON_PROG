{
 "cells": [
  {
   "cell_type": "markdown",
   "id": "4a287d5c-d2fe-49d4-97a6-f9c6a770e4a3",
   "metadata": {},
   "source": [
    "# REVIEW QUESTIONS 1"
   ]
  },
  {
   "cell_type": "code",
   "execution_count": 5,
   "id": "1fab3b48-f7c3-4f8b-8b61-7c1db5ab2e86",
   "metadata": {},
   "outputs": [
    {
     "name": "stdout",
     "output_type": "stream",
     "text": [
      "4\n"
     ]
    }
   ],
   "source": [
    "word = \"DOTA\"\n",
    "print(len(word))"
   ]
  },
  {
   "cell_type": "code",
   "execution_count": 7,
   "id": "336a20f5-bd22-49c8-89ec-89e9a345e515",
   "metadata": {},
   "outputs": [
    {
     "name": "stdout",
     "output_type": "stream",
     "text": [
      "DOTATWO\n"
     ]
    }
   ],
   "source": [
    "word = \"DOTA\"\n",
    "word1 = \"TWO\"\n",
    "finalword = word + word1\n",
    "print(finalword)"
   ]
  },
  {
   "cell_type": "code",
   "execution_count": 8,
   "id": "c1b62fc0-ac17-4c13-94f1-e76e25605e96",
   "metadata": {},
   "outputs": [
    {
     "name": "stdout",
     "output_type": "stream",
     "text": [
      "DOTA TWO\n"
     ]
    }
   ],
   "source": [
    "word = \"DOTA\"\n",
    "word1 = \"TWO\"\n",
    "finalword = word+\" \"+ word1\n",
    "print(finalword)"
   ]
  },
  {
   "cell_type": "code",
   "execution_count": 28,
   "id": "a5af722c-5d12-429c-95a4-292f10146377",
   "metadata": {},
   "outputs": [
    {
     "name": "stdout",
     "output_type": "stream",
     "text": [
      "fox\n"
     ]
    }
   ],
   "source": [
    "sentence = \"The quick brown fox jumped over the lazy dog.#1234567890!\"\n",
    "print(sentence[16:19])"
   ]
  },
  {
   "cell_type": "markdown",
   "id": "4a6d0a94-0d3b-45cf-b158-f13a0057cbba",
   "metadata": {},
   "source": [
    "# REVIEW QUESTIONS 2"
   ]
  },
  {
   "cell_type": "code",
   "execution_count": 29,
   "id": "e650791b-66f1-47fc-bc01-3ffb24a53734",
   "metadata": {},
   "outputs": [
    {
     "name": "stdout",
     "output_type": "stream",
     "text": [
      "animals\n",
      "badger\n",
      "honey bee\n",
      "honeybadger\n"
     ]
    }
   ],
   "source": [
    "word = \"Animals\"\n",
    "word1 = \"Badger\"\n",
    "word2 = \"Honey Bee\"\n",
    "word3 = \"Honeybadger\"\n",
    "print(word.lower())\n",
    "print(word1.lower())\n",
    "print(word2.lower())\n",
    "print(word3.lower())"
   ]
  },
  {
   "cell_type": "code",
   "execution_count": 30,
   "id": "59d3671c-723e-490c-943e-8608a4ea6868",
   "metadata": {},
   "outputs": [
    {
     "name": "stdout",
     "output_type": "stream",
     "text": [
      "ANIMALS\n",
      "BADGER\n",
      "HONEY BEE\n",
      "HONEYBADGER\n"
     ]
    }
   ],
   "source": [
    "word = \"Animals\"\n",
    "word1 = \"Badger\"\n",
    "word2 = \"Honey Bee\"\n",
    "word3 = \"Honeybadger\"\n",
    "print(word.upper())\n",
    "print(word1.upper())\n",
    "print(word2.upper())\n",
    "print(word3.upper())"
   ]
  },
  {
   "cell_type": "code",
   "execution_count": 31,
   "id": "ed74077a-1879-408d-9a0d-be0f0bc0445f",
   "metadata": {},
   "outputs": [
    {
     "name": "stdout",
     "output_type": "stream",
     "text": [
      "Filet Mignon\n",
      "Brisket\n"
     ]
    }
   ],
   "source": [
    "string1= \"  Filet Mignon\"\n",
    "string2 = \"Brisket  \"\n",
    "print(string1.lstrip())\n",
    "print(string2.rstrip())"
   ]
  },
  {
   "cell_type": "code",
   "execution_count": 40,
   "id": "f06f847d-af67-4f65-b34c-24f469704c09",
   "metadata": {},
   "outputs": [
    {
     "name": "stdout",
     "output_type": "stream",
     "text": [
      "False\n",
      "True\n"
     ]
    }
   ],
   "source": [
    "string1=\"Becomes\"\n",
    "print(string1.startswith('be'))\n",
    "string2=\"becomes\"\n",
    "print(string2.startswith('be'))"
   ]
  },
  {
   "cell_type": "code",
   "execution_count": 41,
   "id": "3d4cf08c-90ee-4264-be4c-93f5b9c22bf0",
   "metadata": {},
   "outputs": [
    {
     "name": "stdout",
     "output_type": "stream",
     "text": [
      "True\n",
      "True\n"
     ]
    }
   ],
   "source": [
    "string1=\"Becomes\"\n",
    "string1=\"be\"+string1[2:]\n",
    "print(string1.startswith('be'))\n",
    "string2=\"becomes\"\n",
    "print(string2.startswith('be'))"
   ]
  },
  {
   "cell_type": "markdown",
   "id": "128c6469-11b8-48e2-9a86-edf196b1b6b7",
   "metadata": {},
   "source": [
    "# REVIEW QUESTIONS 3"
   ]
  },
  {
   "cell_type": "code",
   "execution_count": 42,
   "id": "22b21d08-e5c9-4703-b97e-5724f1416887",
   "metadata": {},
   "outputs": [
    {
     "name": "stdin",
     "output_type": "stream",
     "text": [
      "Hi, What is your name? Euwen\n"
     ]
    },
    {
     "name": "stdout",
     "output_type": "stream",
     "text": [
      "HI Euwen\n"
     ]
    }
   ],
   "source": [
    "prompt=\"Hi, What is your name?\"\n",
    "answer = input(prompt)\n",
    "print(\"HI\",answer)"
   ]
  },
  {
   "cell_type": "code",
   "execution_count": 45,
   "id": "f89891ac-9c14-4e3f-86e5-c60b660b4118",
   "metadata": {},
   "outputs": [
    {
     "name": "stdin",
     "output_type": "stream",
     "text": [
      "Hi, What is your name? EUWEN\n"
     ]
    },
    {
     "name": "stdout",
     "output_type": "stream",
     "text": [
      "HI euwen\n"
     ]
    }
   ],
   "source": [
    "prompt=\"Hi, What is your name?\"\n",
    "answer = input(prompt)\n",
    "print(\"HI\",answer.lower())"
   ]
  },
  {
   "cell_type": "code",
   "execution_count": 49,
   "id": "99b6d35c-4a65-48ed-9858-3851bf99c17a",
   "metadata": {},
   "outputs": [
    {
     "name": "stdin",
     "output_type": "stream",
     "text": [
      "Hi, What is your name? euwen\n"
     ]
    },
    {
     "name": "stdout",
     "output_type": "stream",
     "text": [
      "Your name has 5 letters\n"
     ]
    }
   ],
   "source": [
    "prompt=\"Hi, What is your name?\"\n",
    "answer = input(prompt)\n",
    "print(\"Your name has\",len(answer),\"letters\")"
   ]
  },
  {
   "cell_type": "markdown",
   "id": "30285666-faf6-4ed1-a27f-4a11f7dff807",
   "metadata": {},
   "source": [
    "# REVIEW QUESTIONS 4"
   ]
  },
  {
   "cell_type": "code",
   "execution_count": 54,
   "id": "851a09af-83d6-4c61-9ce3-acd2f45de499",
   "metadata": {},
   "outputs": [
    {
     "name": "stdin",
     "output_type": "stream",
     "text": [
      "Tell me your name: euwen\n"
     ]
    },
    {
     "name": "stdout",
     "output_type": "stream",
     "text": [
      "E\n"
     ]
    }
   ],
   "source": [
    "prompt = \"Tell me your name:\"\n",
    "answer =input(prompt)\n",
    "firstletter=answer[0]\n",
    "print(firstletter.upper())"
   ]
  },
  {
   "cell_type": "markdown",
   "id": "c9042af1-2cfc-477f-a3b8-f494121f235a",
   "metadata": {},
   "source": [
    "# REVIEW QUESTIONS 5"
   ]
  },
  {
   "cell_type": "code",
   "execution_count": 56,
   "id": "0dd1cc05-b715-400c-a57b-be56029e4287",
   "metadata": {},
   "outputs": [
    {
     "name": "stdout",
     "output_type": "stream",
     "text": [
      "30\n"
     ]
    }
   ],
   "source": [
    "string1 = \"15\"\n",
    "num = int(string1)\n",
    "sum = num * 2\n",
    "print (sum)"
   ]
  },
  {
   "cell_type": "code",
   "execution_count": 57,
   "id": "a515341f-c729-484c-a286-0b9374a10124",
   "metadata": {},
   "outputs": [
    {
     "name": "stdout",
     "output_type": "stream",
     "text": [
      "30.0\n"
     ]
    }
   ],
   "source": [
    "string1 = \"15\"\n",
    "num = float(string1)\n",
    "sum = num * 2\n",
    "print (sum)"
   ]
  },
  {
   "cell_type": "code",
   "execution_count": 62,
   "id": "9b8a22cc-4a9e-4fca-9249-cc06bdf8b20c",
   "metadata": {},
   "outputs": [
    {
     "name": "stdout",
     "output_type": "stream",
     "text": [
      "15 20\n"
     ]
    }
   ],
   "source": [
    "string1 = \"15\"\n",
    "num = 20\n",
    "print (string1+\" \"+str(num))"
   ]
  },
  {
   "cell_type": "code",
   "execution_count": 64,
   "id": "4f29c286-4d10-4337-86c0-4d65536b74ba",
   "metadata": {},
   "outputs": [
    {
     "name": "stdin",
     "output_type": "stream",
     "text": [
      "Give me a Number 5\n",
      "Give me Another Number 2\n"
     ]
    },
    {
     "name": "stdout",
     "output_type": "stream",
     "text": [
      "10\n"
     ]
    }
   ],
   "source": [
    "prompt =\"Give me a Number\"\n",
    "number1 = input(prompt)\n",
    "prompt2 = \"Give me Another Number\"\n",
    "number2 = input(prompt2)\n",
    "fnum1 = int(number1)\n",
    "fnum2 = int(number2)\n",
    "print(fnum1*fnum2)"
   ]
  },
  {
   "cell_type": "markdown",
   "id": "f6ba6a23-33ed-4920-9195-70e333b20d39",
   "metadata": {},
   "source": [
    "# REVIEW QUESTIONS 6\n"
   ]
  },
  {
   "cell_type": "code",
   "execution_count": 70,
   "id": "a10db8a7-d800-4fea-84c7-6924619bfde1",
   "metadata": {},
   "outputs": [
    {
     "data": {
      "text/plain": [
       "-1"
      ]
     },
     "execution_count": 70,
     "metadata": {},
     "output_type": "execute_result"
    }
   ],
   "source": [
    "\"AAA\".find(\"a\")"
   ]
  },
  {
   "cell_type": "code",
   "execution_count": 71,
   "id": "8c15f257-df25-4821-8b01-619fe49d529c",
   "metadata": {},
   "outputs": [
    {
     "data": {
      "text/plain": [
       "'Somebody yaid yomething to Samantha'"
      ]
     },
     "execution_count": 71,
     "metadata": {},
     "output_type": "execute_result"
    }
   ],
   "source": [
    "\"Somebody said something to Samantha\".replace(\"s\",\"y\")"
   ]
  },
  {
   "cell_type": "code",
   "execution_count": 75,
   "id": "a241c09e-98f1-49e7-a1a1-c9ef7cf988b8",
   "metadata": {},
   "outputs": [
    {
     "name": "stdin",
     "output_type": "stream",
     "text": [
      "Give me a sentence/word Euwen\n",
      "What letter would you want to find? n\n"
     ]
    },
    {
     "data": {
      "text/plain": [
       "4"
      ]
     },
     "execution_count": 75,
     "metadata": {},
     "output_type": "execute_result"
    }
   ],
   "source": [
    "prompt = \"Give me a sentence/word\"\n",
    "answer = input(prompt)\n",
    "prompt1 = \"What letter would you want to find?\"\n",
    "answer1 = input(prompt1)\n",
    "answer.find(answer1)\n"
   ]
  },
  {
   "cell_type": "markdown",
   "id": "98bd36b7-9739-4b4b-bec3-d70c00cb93d5",
   "metadata": {},
   "source": [
    "# REVIEW QUESTIONS 7"
   ]
  },
  {
   "cell_type": "code",
   "execution_count": 89,
   "id": "a384c44f-38ed-4627-b199-627558e3e982",
   "metadata": {},
   "outputs": [
    {
     "name": "stdin",
     "output_type": "stream",
     "text": [
      "Enter some text: I like to eat eggs and spam.\n"
     ]
    },
    {
     "name": "stdout",
     "output_type": "stream",
     "text": [
      "I 1ik3 70 347 3gg5 4nd 5p4m.\n"
     ]
    }
   ],
   "source": [
    "prompt = \"Enter some text:\"\n",
    "answer1 = input(prompt)\n",
    "answer2 =answer1.replace(\"a\",\"4\")\n",
    "answer3 =answer2.replace(\"b\",\"8\")\n",
    "answer4 =answer3.replace(\"e\",\"3\")\n",
    "answer5 =answer4.replace(\"l\",\"1\")\n",
    "answer6 =answer5.replace(\"o\",\"0\")\n",
    "answer7 =answer6.replace(\"s\",\"5\")\n",
    "answer8 =answer7.replace(\"t\",\"7\")\n",
    "print(answer8)"
   ]
  },
  {
   "cell_type": "code",
   "execution_count": null,
   "id": "9f9f0f4d-5778-427b-ab6a-81efc5de16b2",
   "metadata": {},
   "outputs": [],
   "source": []
  }
 ],
 "metadata": {
  "kernelspec": {
   "display_name": "Python [conda env:base] *",
   "language": "python",
   "name": "conda-base-py"
  },
  "language_info": {
   "codemirror_mode": {
    "name": "ipython",
    "version": 3
   },
   "file_extension": ".py",
   "mimetype": "text/x-python",
   "name": "python",
   "nbconvert_exporter": "python",
   "pygments_lexer": "ipython3",
   "version": "3.13.5"
  }
 },
 "nbformat": 4,
 "nbformat_minor": 5
}
