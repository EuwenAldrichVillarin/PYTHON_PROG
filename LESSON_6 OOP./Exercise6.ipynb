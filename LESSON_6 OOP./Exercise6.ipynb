{
 "cells": [
  {
   "cell_type": "markdown",
   "id": "6eb64552-b187-4324-95a4-cc636b7334d4",
   "metadata": {},
   "source": [
    "# Review Questions 1"
   ]
  },
  {
   "cell_type": "code",
   "execution_count": 12,
   "id": "d0ed9afe-928e-44a0-8275-8f548138dcdb",
   "metadata": {},
   "outputs": [
    {
     "name": "stdout",
     "output_type": "stream",
     "text": [
      "Philo's coat is Brown.\n"
     ]
    }
   ],
   "source": [
    "class Dog:\n",
    "    def __init__(self,name,age,coatcolor):\n",
    "        self.name = name\n",
    "        self.age = age\n",
    "        self.coatcolor= coatcolor\n",
    "\n",
    "philo = Dog(\"Philo\",5,\"Brown\")\n",
    "print(f\"{philo.name}'s coat is {philo.coatcolor}.\")\n"
   ]
  },
  {
   "cell_type": "code",
   "execution_count": 13,
   "id": "d707a50f-775b-4e51-a581-03a2a81f3170",
   "metadata": {},
   "outputs": [
    {
     "name": "stdout",
     "output_type": "stream",
     "text": [
      "The blue car has 20,000 miles.\n",
      "The red car has 30,000 miles.\n"
     ]
    }
   ],
   "source": [
    "class Car:\n",
    "    def __init__(self, color, mileage):\n",
    "        self.color = color\n",
    "        self.mileage = mileage\n",
    "bluecar = Car(\"blue\", 20000)\n",
    "redcar = Car(\"red\", 30000)\n",
    "\n",
    "print(f\"The {bluecar.color} car has {bluecar.mileage:,} miles.\")\n",
    "print(f\"The {redcar.color} car has {redcar.mileage:,} miles.\")\n",
    "\n"
   ]
  },
  {
   "cell_type": "code",
   "execution_count": 14,
   "id": "63e3161b-f08d-411d-883f-63b81bf0f7de",
   "metadata": {},
   "outputs": [
    {
     "name": "stdout",
     "output_type": "stream",
     "text": [
      "This car has 100 miles\n"
     ]
    }
   ],
   "source": [
    "class Car:\n",
    "    def __init__(self, color, mileage):\n",
    "        self.color = color\n",
    "        self.mileage = mileage\n",
    "\n",
    "    def drive(self, miles):\n",
    "        self.mileage += miles\n",
    "my_car = Car(\"blue\", 0)\n",
    "my_car.drive(100)\n",
    "print(f\"This car has {my_car.mileage} miles\")"
   ]
  },
  {
   "cell_type": "markdown",
   "id": "c453af4e-ab05-4182-a5ef-a248332e3dca",
   "metadata": {},
   "source": [
    "# Review Questions 2"
   ]
  },
  {
   "cell_type": "code",
   "execution_count": 21,
   "id": "b857ea18-1a46-44cd-bf7b-97aaf4b3ed41",
   "metadata": {},
   "outputs": [
    {
     "name": "stdout",
     "output_type": "stream",
     "text": [
      "Euwen says Bark\n"
     ]
    }
   ],
   "source": [
    "class Dog:\n",
    "    species = \"Canis familiaris\"\n",
    "    def __init__(self, name, age):\n",
    "        self.name = name\n",
    "        self.age = age\n",
    "    \n",
    "    def __str__(self):\n",
    "        return f\"{self.name} is {self.age} years old\"\n",
    "    def speak(self, sound):\n",
    "        return f\"{self.name} says {sound}\"\n",
    "\n",
    "class GoldenRetriever(Dog):\n",
    "    def speak(self, sound=\"Bark\"):\n",
    "        return super().speak(sound)\n",
    "        \n",
    "gr = GoldenRetriever(\"Euwen\", 3)                \n",
    "print(gr.speak())"
   ]
  },
  {
   "cell_type": "code",
   "execution_count": 24,
   "id": "a09d5800-b5dc-4295-9128-df6ebc764173",
   "metadata": {},
   "outputs": [
    {
     "name": "stdout",
     "output_type": "stream",
     "text": [
      "The Area of the Square is 16.\n"
     ]
    }
   ],
   "source": [
    "class Rectangle:\n",
    "    def __init__(self, length, width):\n",
    "        self.length = length\n",
    "        self.width = width\n",
    "    def area(self):\n",
    "        return self.length * self.width\n",
    "class Square(Rectangle):\n",
    "    def __init__(self, side_length):\n",
    "        super().__init__(side_length, side_length)\n",
    "sq = Square(4)\n",
    "print(f\"The Area of the Square is {sq.area()}.\")\n"
   ]
  },
  {
   "cell_type": "markdown",
   "id": "fa6c2dba-2fad-46af-b0fd-846b9c520e01",
   "metadata": {},
   "source": [
    "# Challenge"
   ]
  },
  {
   "cell_type": "code",
   "execution_count": 27,
   "id": "92dc678c-5c21-4e37-a34e-f6eda0975659",
   "metadata": {},
   "outputs": [
    {
     "name": "stdout",
     "output_type": "stream",
     "text": [
      "Euwen is a Dog.\n",
      "Euwen is eating.\n",
      "Euwen the Golden Retriever barks loudly!\n",
      "\n",
      "Lourdyn is a Cat.\n",
      "Lourdyn is sleeping.\n",
      "Lourdyn, the Persian cat, says meow!\n",
      "\n",
      "Jerick is a Horse.\n",
      "Jerick is eating.\n",
      "Jerick the Arabian is running across the field!\n"
     ]
    }
   ],
   "source": [
    "# Parent class\n",
    "class Animal:\n",
    "    def __init__(self, name, species):\n",
    "        self.name = name\n",
    "        self.species = species\n",
    "\n",
    "    def eat(self):\n",
    "        return f\"{self.name} is eating.\"\n",
    "\n",
    "    def sleep(self):\n",
    "        return f\"{self.name} is sleeping.\"\n",
    "\n",
    "    def __str__(self):\n",
    "        return f\"{self.name} is a {self.species}.\"\n",
    "\n",
    "class Dog(Animal):\n",
    "    def __init__(self, name, breed):\n",
    "        super().__init__(name, species=\"Dog\")\n",
    "        self.breed = breed\n",
    "\n",
    "    def bark(self):\n",
    "        return f\"{self.name} the {self.breed} barks loudly!\"\n",
    "class Cat(Animal):\n",
    "    def __init__(self, name, breed):\n",
    "        super().__init__(name, species=\"Cat\")\n",
    "        self.breed = breed\n",
    "\n",
    "    def meow(self):\n",
    "        return f\"{self.name}, the {self.breed} cat, says meow!\"\n",
    "class Horse(Animal):\n",
    "    def __init__(self, name, breed):\n",
    "        super().__init__(name, species=\"Horse\")\n",
    "        self.breed = breed\n",
    "\n",
    "    def run(self):\n",
    "        return f\"{self.name} the {self.breed} is running!\"\n",
    "\n",
    "dog = Dog(\"Euwen\", \"Golden Retriever\")\n",
    "cat = Cat(\"Lourdyn\", \"Persian\")\n",
    "horse = Horse(\"Jerick\", \"Arabian\")\n",
    "\n",
    "\n",
    "print(dog)\n",
    "print(dog.eat())\n",
    "print(dog.bark())\n",
    "\n",
    "print(\"\\n\" + str(cat))\n",
    "print(cat.sleep())\n",
    "print(cat.meow())\n",
    "\n",
    "print(\"\\n\" + str(horse))\n",
    "print(horse.eat())\n",
    "print(horse.run())\n"
   ]
  },
  {
   "cell_type": "code",
   "execution_count": null,
   "id": "ed01aa06-1a22-4949-99bb-79455865957c",
   "metadata": {},
   "outputs": [],
   "source": []
  }
 ],
 "metadata": {
  "kernelspec": {
   "display_name": "Python [conda env:base] *",
   "language": "python",
   "name": "conda-base-py"
  },
  "language_info": {
   "codemirror_mode": {
    "name": "ipython",
    "version": 3
   },
   "file_extension": ".py",
   "mimetype": "text/x-python",
   "name": "python",
   "nbconvert_exporter": "python",
   "pygments_lexer": "ipython3",
   "version": "3.13.5"
  }
 },
 "nbformat": 4,
 "nbformat_minor": 5
}
