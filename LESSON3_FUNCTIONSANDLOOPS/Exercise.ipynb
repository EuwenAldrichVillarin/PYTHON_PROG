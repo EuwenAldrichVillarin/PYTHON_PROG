{
 "cells": [
  {
   "cell_type": "markdown",
   "id": "cc703847-e340-4c71-aa8a-c820db341b36",
   "metadata": {},
   "source": [
    "# REVIEW QUESTIONS 1"
   ]
  },
  {
   "cell_type": "code",
   "execution_count": 14,
   "id": "e9432a68-077e-473c-aae3-e9bc3db327e0",
   "metadata": {},
   "outputs": [
    {
     "name": "stdin",
     "output_type": "stream",
     "text": [
      "Please Enter a Number 4\n"
     ]
    },
    {
     "name": "stdout",
     "output_type": "stream",
     "text": [
      "64.0\n"
     ]
    },
    {
     "name": "stdin",
     "output_type": "stream",
     "text": [
      "Please Enter a Number 5\n"
     ]
    },
    {
     "name": "stdout",
     "output_type": "stream",
     "text": [
      "125.0\n"
     ]
    }
   ],
   "source": [
    "def cube(answer):\n",
    "    return (answer**3)\n",
    "prompt = \"Please Enter a Number\"\n",
    "answer = float(input(prompt))\n",
    "product = cube(answer)\n",
    "print(product)\n",
    "prompt1 = \"Please Enter a Number\"\n",
    "answer1 = float(input(prompt1))\n",
    "product1 = cube(answer1)\n",
    "print(product1)"
   ]
  },
  {
   "cell_type": "code",
   "execution_count": 18,
   "id": "9bc1e28e-639c-45ed-9e17-f209bdf46a51",
   "metadata": {},
   "outputs": [
    {
     "name": "stdin",
     "output_type": "stream",
     "text": [
      "What is your Name Euwen\n"
     ]
    },
    {
     "name": "stdout",
     "output_type": "stream",
     "text": [
      "Hello Euwen!\n"
     ]
    }
   ],
   "source": [
    "def greet(name):\n",
    "    print(f\"Hello {name}!\")\n",
    "prompt = \"What is your Name\"\n",
    "answer = input(prompt)\n",
    "greet(answer)"
   ]
  },
  {
   "cell_type": "markdown",
   "id": "e2538ea3-efc5-463e-a48c-465e2dc11679",
   "metadata": {},
   "source": [
    "# Review Questions 2"
   ]
  },
  {
   "cell_type": "code",
   "execution_count": 28,
   "id": "ae819c8e-9097-4af0-ad09-279323a0bc5f",
   "metadata": {},
   "outputs": [
    {
     "name": "stdin",
     "output_type": "stream",
     "text": [
      "Enter a Temperature in Degrees C: 38\n"
     ]
    },
    {
     "name": "stdout",
     "output_type": "stream",
     "text": [
      "38.0 degrees C = 100.4 degrees F\n"
     ]
    }
   ],
   "source": [
    "def convert_cel_to_far(cel):\n",
    "    return (cel*1.8)+32\n",
    "prompt = \"Enter a Temperature in Degrees C:\"\n",
    "answer = float(input(prompt))\n",
    "converted = convert_cel_to_far(answer)\n",
    "print(f\"{answer} degrees C = {round(converted,2)} degrees F\")"
   ]
  },
  {
   "cell_type": "code",
   "execution_count": 35,
   "id": "fff16bd4-0d08-4c4a-8d8b-dbb4e454facb",
   "metadata": {},
   "outputs": [
    {
     "name": "stdin",
     "output_type": "stream",
     "text": [
      "Enter a Temperature in Degrees F: 72\n"
     ]
    },
    {
     "name": "stdout",
     "output_type": "stream",
     "text": [
      "72.0 degrees F = 22.22 degrees C\n"
     ]
    }
   ],
   "source": [
    "def convert_far_to_cel(far):\n",
    "    return (far-32)*0.5556\n",
    "prompt = \"Enter a Temperature in Degrees F:\"\n",
    "answer = float(input(prompt))\n",
    "converted = convert_far_to_cel(answer)\n",
    "print(f\"{answer} degrees F = {round(converted,2)} degrees C\")"
   ]
  },
  {
   "cell_type": "markdown",
   "id": "51aac879-eb3f-434d-9c8f-226bf3d611a6",
   "metadata": {},
   "source": [
    "# Review Questions 3"
   ]
  },
  {
   "cell_type": "code",
   "execution_count": 39,
   "id": "c390d32b-4c15-4271-9d70-adcd6af85a4e",
   "metadata": {},
   "outputs": [
    {
     "name": "stdout",
     "output_type": "stream",
     "text": [
      "2\n",
      "3\n",
      "4\n",
      "5\n",
      "6\n",
      "7\n",
      "8\n",
      "9\n",
      "10\n"
     ]
    }
   ],
   "source": [
    "for n in range(2,11):\n",
    "    print(n)"
   ]
  },
  {
   "cell_type": "code",
   "execution_count": 41,
   "id": "3a69376c-f109-4060-9f86-ada3c56913d7",
   "metadata": {},
   "outputs": [
    {
     "name": "stdout",
     "output_type": "stream",
     "text": [
      "2\n",
      "3\n",
      "4\n",
      "5\n",
      "6\n",
      "7\n",
      "8\n",
      "9\n",
      "10\n"
     ]
    }
   ],
   "source": [
    "n = 2\n",
    "while n<=10:\n",
    "    print(n)\n",
    "    n+=1"
   ]
  },
  {
   "cell_type": "code",
   "execution_count": 62,
   "id": "e6a16ccc-174a-4498-b22f-fef3d9ed2f66",
   "metadata": {},
   "outputs": [
    {
     "name": "stdout",
     "output_type": "stream",
     "text": [
      "4\n",
      "8\n",
      "16\n"
     ]
    }
   ],
   "source": [
    "def doubles(n):\n",
    "    return n*2\n",
    "i=0\n",
    "answer = 2\n",
    "while i<=2:\n",
    "    answer = doubles(answer)\n",
    "    print(answer)\n",
    "    i+=1"
   ]
  },
  {
   "cell_type": "code",
   "execution_count": null,
   "id": "6ba71962-a5f3-45bd-b9c5-51ee6d3347d5",
   "metadata": {},
   "outputs": [],
   "source": []
  }
 ],
 "metadata": {
  "kernelspec": {
   "display_name": "Python [conda env:base] *",
   "language": "python",
   "name": "conda-base-py"
  },
  "language_info": {
   "codemirror_mode": {
    "name": "ipython",
    "version": 3
   },
   "file_extension": ".py",
   "mimetype": "text/x-python",
   "name": "python",
   "nbconvert_exporter": "python",
   "pygments_lexer": "ipython3",
   "version": "3.13.5"
  }
 },
 "nbformat": 4,
 "nbformat_minor": 5
}
